{
  "nbformat": 4,
  "nbformat_minor": 0,
  "metadata": {
    "colab": {
      "name": "ddosKNN.ipynb",
      "provenance": [],
      "collapsed_sections": [],
      "authorship_tag": "ABX9TyP3MQ8vdT/UsLPsQy6FY5Ml"
    },
    "kernelspec": {
      "name": "python3",
      "display_name": "Python 3"
    },
    "language_info": {
      "name": "python"
    }
  },
  "cells": [
    {
      "cell_type": "code",
      "metadata": {
        "colab": {
          "base_uri": "https://localhost:8080/"
        },
        "id": "xMW_3TXjHBsw",
        "outputId": "61052b72-e778-4f00-deac-34bd2505b8af"
      },
      "source": [
        "from google.colab import drive\n",
        "drive.mount('/content/drive')"
      ],
      "execution_count": null,
      "outputs": [
        {
          "output_type": "stream",
          "text": [
            "Mounted at /content/drive\n"
          ],
          "name": "stdout"
        }
      ]
    },
    {
      "cell_type": "code",
      "metadata": {
        "colab": {
          "base_uri": "https://localhost:8080/"
        },
        "id": "G4jz9uqyHcTk",
        "outputId": "e331a939-9a09-4494-bec1-7972856e0d9d"
      },
      "source": [
        "%cd /content/drive/My Drive/Colab Notebooks/Capgemini Internship"
      ],
      "execution_count": null,
      "outputs": [
        {
          "output_type": "stream",
          "text": [
            "/content/drive/My Drive/Colab Notebooks\n"
          ],
          "name": "stdout"
        }
      ]
    },
    {
      "cell_type": "code",
      "metadata": {
        "id": "AmUCo6YkHeo0"
      },
      "source": [
        "import pandas as pd\n",
        "import numpy as np\n",
        "from sklearn.model_selection import train_test_split\n",
        "from sklearn.metrics import accuracy_score,confusion_matrix\n",
        "from sklearn.neighbors import KNeighborsClassifier\n",
        "import seaborn as sns"
      ],
      "execution_count": null,
      "outputs": []
    },
    {
      "cell_type": "code",
      "metadata": {
        "id": "UY_DEXvVHhSK"
      },
      "source": [
        "features = [\n",
        "            \"SRC_ADD\",\n",
        "            \"PKT_ID\",\n",
        "            \"TO_NODE\",\n",
        "            \"PKT_SIZE\",\n",
        "            \"NUMBER_OF_PKT\",\n",
        "            \"NUMBER_OF_BYTE\",\n",
        "            \"PKT_RATE\",\n",
        "            \"PKT_AVG_SIZE\",\n",
        "            \"PKT_CLASS\",\n",
        "            \"Timestamp\"\n",
        "]"
      ],
      "execution_count": null,
      "outputs": []
    },
    {
      "cell_type": "code",
      "metadata": {
        "id": "IJT5NQm1Hks6"
      },
      "source": [
        "dtypes = {\n",
        "    \"SRC_ADD\": \"float\",\n",
        "    \"PKT_ID\": \"int\",\n",
        "    \"TO_NODE\": \"int\",\n",
        "    \"PKT_SIZE\": \"int\",\n",
        "    \"NUMBER_OF_PKT\": \"int\",\n",
        "    \"NUMBER_OF_BYTE\": \"int\",\n",
        "    \"PKT_RATE\": \"float\",\n",
        "    \"BYTE_RATE\": \"float\",\n",
        "    \"PKT_AVG_SIZE\": \"float\",\n",
        "    \"PKT_CLASS\": \"str\"\n",
        "}\n",
        "date_columns = [\"Timestamp\"]"
      ],
      "execution_count": null,
      "outputs": []
    },
    {
      "cell_type": "code",
      "metadata": {
        "id": "cW96QDseHnJu"
      },
      "source": [
        "df = pd.read_csv(\"final_dataset1.csv\", usecols=features, dtype=dtypes, parse_dates=date_columns, index_col=None)"
      ],
      "execution_count": null,
      "outputs": []
    },
    {
      "cell_type": "code",
      "metadata": {
        "colab": {
          "base_uri": "https://localhost:8080/"
        },
        "id": "pUMrllQ_H6S5",
        "outputId": "f8f13b33-c951-482d-b877-a40545b15c3b"
      },
      "source": [
        "df['PKT_CLASS'].value_counts()"
      ],
      "execution_count": null,
      "outputs": [
        {
          "output_type": "execute_result",
          "data": {
            "text/plain": [
              "Normal        447979\n",
              "UDP-Flood      46451\n",
              "Smurf           3027\n",
              "SIDDOS          1547\n",
              "HTTP-FLOOD       996\n",
              "Name: PKT_CLASS, dtype: int64"
            ]
          },
          "metadata": {
            "tags": []
          },
          "execution_count": 7
        }
      ]
    },
    {
      "cell_type": "code",
      "metadata": {
        "id": "ouMwzcHg4lKX",
        "colab": {
          "base_uri": "https://localhost:8080/",
          "height": 204
        },
        "outputId": "f01e6e7d-4d22-4159-b78f-3ec6f032d81d"
      },
      "source": [
        "df.head()"
      ],
      "execution_count": null,
      "outputs": [
        {
          "output_type": "execute_result",
          "data": {
            "text/html": [
              "<div>\n",
              "<style scoped>\n",
              "    .dataframe tbody tr th:only-of-type {\n",
              "        vertical-align: middle;\n",
              "    }\n",
              "\n",
              "    .dataframe tbody tr th {\n",
              "        vertical-align: top;\n",
              "    }\n",
              "\n",
              "    .dataframe thead th {\n",
              "        text-align: right;\n",
              "    }\n",
              "</style>\n",
              "<table border=\"1\" class=\"dataframe\">\n",
              "  <thead>\n",
              "    <tr style=\"text-align: right;\">\n",
              "      <th></th>\n",
              "      <th>SRC_ADD</th>\n",
              "      <th>PKT_ID</th>\n",
              "      <th>TO_NODE</th>\n",
              "      <th>PKT_SIZE</th>\n",
              "      <th>NUMBER_OF_PKT</th>\n",
              "      <th>NUMBER_OF_BYTE</th>\n",
              "      <th>PKT_RATE</th>\n",
              "      <th>PKT_AVG_SIZE</th>\n",
              "      <th>PKT_CLASS</th>\n",
              "      <th>Timestamp</th>\n",
              "    </tr>\n",
              "  </thead>\n",
              "  <tbody>\n",
              "    <tr>\n",
              "      <th>0</th>\n",
              "      <td>3.00</td>\n",
              "      <td>389693</td>\n",
              "      <td>23</td>\n",
              "      <td>1540</td>\n",
              "      <td>16091</td>\n",
              "      <td>24780100</td>\n",
              "      <td>328.24</td>\n",
              "      <td>1540.0</td>\n",
              "      <td>Normal</td>\n",
              "      <td>2018-02-22 00:27:57</td>\n",
              "    </tr>\n",
              "    <tr>\n",
              "      <th>1</th>\n",
              "      <td>15.00</td>\n",
              "      <td>201196</td>\n",
              "      <td>24</td>\n",
              "      <td>1540</td>\n",
              "      <td>16092</td>\n",
              "      <td>24781700</td>\n",
              "      <td>328.21</td>\n",
              "      <td>1540.0</td>\n",
              "      <td>Normal</td>\n",
              "      <td>2018-02-16 23:18:14</td>\n",
              "    </tr>\n",
              "    <tr>\n",
              "      <th>2</th>\n",
              "      <td>24.15</td>\n",
              "      <td>61905</td>\n",
              "      <td>22</td>\n",
              "      <td>55</td>\n",
              "      <td>16092</td>\n",
              "      <td>885060</td>\n",
              "      <td>328.21</td>\n",
              "      <td>55.0</td>\n",
              "      <td>UDP-Flood</td>\n",
              "      <td>2018-02-16 23:23:20</td>\n",
              "    </tr>\n",
              "    <tr>\n",
              "      <th>3</th>\n",
              "      <td>24.90</td>\n",
              "      <td>443135</td>\n",
              "      <td>21</td>\n",
              "      <td>55</td>\n",
              "      <td>16085</td>\n",
              "      <td>884675</td>\n",
              "      <td>328.06</td>\n",
              "      <td>55.0</td>\n",
              "      <td>Normal</td>\n",
              "      <td>2018-02-16 23:22:41</td>\n",
              "    </tr>\n",
              "    <tr>\n",
              "      <th>4</th>\n",
              "      <td>24.80</td>\n",
              "      <td>157335</td>\n",
              "      <td>21</td>\n",
              "      <td>55</td>\n",
              "      <td>16088</td>\n",
              "      <td>884840</td>\n",
              "      <td>328.11</td>\n",
              "      <td>55.0</td>\n",
              "      <td>Normal</td>\n",
              "      <td>2018-02-21 23:49:25</td>\n",
              "    </tr>\n",
              "  </tbody>\n",
              "</table>\n",
              "</div>"
            ],
            "text/plain": [
              "   SRC_ADD  PKT_ID  TO_NODE  ...  PKT_AVG_SIZE  PKT_CLASS           Timestamp\n",
              "0     3.00  389693       23  ...        1540.0     Normal 2018-02-22 00:27:57\n",
              "1    15.00  201196       24  ...        1540.0     Normal 2018-02-16 23:18:14\n",
              "2    24.15   61905       22  ...          55.0  UDP-Flood 2018-02-16 23:23:20\n",
              "3    24.90  443135       21  ...          55.0     Normal 2018-02-16 23:22:41\n",
              "4    24.80  157335       21  ...          55.0     Normal 2018-02-21 23:49:25\n",
              "\n",
              "[5 rows x 10 columns]"
            ]
          },
          "metadata": {
            "tags": []
          },
          "execution_count": 8
        }
      ]
    },
    {
      "cell_type": "code",
      "metadata": {
        "id": "mwn-aG81H-LN"
      },
      "source": [
        "df2 = df.sort_values(\"Timestamp\")"
      ],
      "execution_count": null,
      "outputs": []
    },
    {
      "cell_type": "code",
      "metadata": {
        "id": "kS2KlwAqIAyx"
      },
      "source": [
        "df3 = df2.drop(columns=[\"Timestamp\"])"
      ],
      "execution_count": null,
      "outputs": []
    },
    {
      "cell_type": "code",
      "metadata": {
        "id": "U38u73zzIDt0"
      },
      "source": [
        "l = len(df3.index)\n",
        "train_df = df3.head(int(l * 0.7))\n",
        "test_df = df3.tail(int(l * 0.3))"
      ],
      "execution_count": null,
      "outputs": []
    },
    {
      "cell_type": "code",
      "metadata": {
        "id": "V3LVWE1-IGAS"
      },
      "source": [
        "y_train = train_df.pop(\"PKT_CLASS\").values\n",
        "y_test = test_df.pop(\"PKT_CLASS\").values"
      ],
      "execution_count": null,
      "outputs": []
    },
    {
      "cell_type": "code",
      "metadata": {
        "id": "GrOt_Zq3IIVm"
      },
      "source": [
        "X_train = train_df.values\n",
        "X_test = test_df.values"
      ],
      "execution_count": null,
      "outputs": []
    },
    {
      "cell_type": "markdown",
      "metadata": {
        "id": "2QJOxgOzVrmm"
      },
      "source": [
        "**SMOTE**\n",
        "\n",
        "*   .....\n",
        "*   .....\n",
        "\n",
        "\n",
        "\n",
        "\n",
        "\n"
      ]
    },
    {
      "cell_type": "code",
      "metadata": {
        "colab": {
          "base_uri": "https://localhost:8080/"
        },
        "id": "NfhVY3Fk2YEr",
        "outputId": "43874534-e3a4-4a07-930a-e2f45560c998"
      },
      "source": [
        "from imblearn.over_sampling import SMOTE\n",
        "smote = SMOTE()\n",
        "x_train_smote, y_train_smote = smote.fit_sample(X_train, y_train)"
      ],
      "execution_count": null,
      "outputs": [
        {
          "output_type": "stream",
          "text": [
            "/usr/local/lib/python3.7/dist-packages/sklearn/externals/six.py:31: FutureWarning: The module is deprecated in version 0.21 and will be removed in version 0.23 since we've dropped support for Python 2.7. Please rely on the official version of six (https://pypi.org/project/six/).\n",
            "  \"(https://pypi.org/project/six/).\", FutureWarning)\n",
            "/usr/local/lib/python3.7/dist-packages/sklearn/utils/deprecation.py:144: FutureWarning: The sklearn.neighbors.base module is  deprecated in version 0.22 and will be removed in version 0.24. The corresponding classes / functions should instead be imported from sklearn.neighbors. Anything that cannot be imported from sklearn.neighbors is now part of the private API.\n",
            "  warnings.warn(message, FutureWarning)\n",
            "/usr/local/lib/python3.7/dist-packages/sklearn/utils/deprecation.py:87: FutureWarning: Function safe_indexing is deprecated; safe_indexing is deprecated in version 0.22 and will be removed in version 0.24.\n",
            "  warnings.warn(msg, category=FutureWarning)\n",
            "/usr/local/lib/python3.7/dist-packages/sklearn/utils/deprecation.py:87: FutureWarning: Function safe_indexing is deprecated; safe_indexing is deprecated in version 0.22 and will be removed in version 0.24.\n",
            "  warnings.warn(msg, category=FutureWarning)\n",
            "/usr/local/lib/python3.7/dist-packages/sklearn/utils/deprecation.py:87: FutureWarning: Function safe_indexing is deprecated; safe_indexing is deprecated in version 0.22 and will be removed in version 0.24.\n",
            "  warnings.warn(msg, category=FutureWarning)\n",
            "/usr/local/lib/python3.7/dist-packages/sklearn/utils/deprecation.py:87: FutureWarning: Function safe_indexing is deprecated; safe_indexing is deprecated in version 0.22 and will be removed in version 0.24.\n",
            "  warnings.warn(msg, category=FutureWarning)\n"
          ],
          "name": "stderr"
        }
      ]
    },
    {
      "cell_type": "code",
      "metadata": {
        "colab": {
          "base_uri": "https://localhost:8080/"
        },
        "id": "4eNRAC3F2u5b",
        "outputId": "c5fc84db-8ff3-4de0-bccd-d2b9347051bd"
      },
      "source": [
        "from collections import Counter\n",
        "print(\"Data with SMOTE : \" , Counter(y_train_smote))"
      ],
      "execution_count": null,
      "outputs": [
        {
          "output_type": "stream",
          "text": [
            "Data with SMOTE :  Counter({'Normal': 313530, 'UDP-Flood': 313530, 'Smurf': 313530, 'HTTP-FLOOD': 313530, 'SIDDOS': 313530})\n"
          ],
          "name": "stdout"
        }
      ]
    },
    {
      "cell_type": "code",
      "metadata": {
        "id": "UHV6zcBb8DAh"
      },
      "source": [
        "knn = KNeighborsClassifier(n_neighbors=5)"
      ],
      "execution_count": null,
      "outputs": []
    },
    {
      "cell_type": "code",
      "metadata": {
        "colab": {
          "base_uri": "https://localhost:8080/"
        },
        "id": "PLlQJssi-dZC",
        "outputId": "5a8b66c1-3715-4646-ca2a-70d220cf7c9c"
      },
      "source": [
        "knn.fit(x_train_smote, y_train_smote)"
      ],
      "execution_count": null,
      "outputs": [
        {
          "output_type": "execute_result",
          "data": {
            "text/plain": [
              "KNeighborsClassifier(algorithm='auto', leaf_size=30, metric='minkowski',\n",
              "                     metric_params=None, n_jobs=None, n_neighbors=5, p=2,\n",
              "                     weights='uniform')"
            ]
          },
          "metadata": {
            "tags": []
          },
          "execution_count": 17
        }
      ]
    },
    {
      "cell_type": "code",
      "metadata": {
        "id": "kSJQq3Ff-nWJ"
      },
      "source": [
        "y_pred = knn.predict(X_test)"
      ],
      "execution_count": null,
      "outputs": []
    },
    {
      "cell_type": "code",
      "metadata": {
        "colab": {
          "base_uri": "https://localhost:8080/"
        },
        "id": "JqHqkZfC-zkY",
        "outputId": "3740f816-7387-4c22-b48c-cfaad9d1add3"
      },
      "source": [
        "print((accuracy_score(y_pred, y_test)))"
      ],
      "execution_count": null,
      "outputs": [
        {
          "output_type": "stream",
          "text": [
            "0.9005\n"
          ],
          "name": "stdout"
        }
      ]
    },
    {
      "cell_type": "markdown",
      "metadata": {
        "id": "2ZHGjZuKWGUq"
      },
      "source": [
        "**Sampled** **Dataset**\n",
        "\n",
        "\n",
        "*   ....\n",
        "*   ....\n",
        "\n"
      ]
    },
    {
      "cell_type": "code",
      "metadata": {
        "id": "ZY2MsoWvSazG"
      },
      "source": [
        "data = pd.read_csv(\"sampledddos.csv\", usecols=features, dtype=dtypes, parse_dates=date_columns, index_col=None)"
      ],
      "execution_count": null,
      "outputs": []
    },
    {
      "cell_type": "code",
      "metadata": {
        "colab": {
          "base_uri": "https://localhost:8080/"
        },
        "id": "bKex3qpHTW-S",
        "outputId": "a4b3b6dc-8902-4541-b9a4-63b7026e99d3"
      },
      "source": [
        "data['PKT_CLASS'].value_counts()"
      ],
      "execution_count": null,
      "outputs": [
        {
          "output_type": "execute_result",
          "data": {
            "text/plain": [
              "HTTP-FLOOD    900\n",
              "SIDDOS        900\n",
              "Smurf         900\n",
              "Normal        900\n",
              "UDP-Flood     900\n",
              "Name: PKT_CLASS, dtype: int64"
            ]
          },
          "metadata": {
            "tags": []
          },
          "execution_count": 21
        }
      ]
    },
    {
      "cell_type": "code",
      "metadata": {
        "id": "qhVerO6ZVMe0"
      },
      "source": [
        "data2 = data.sort_values(\"Timestamp\")"
      ],
      "execution_count": null,
      "outputs": []
    },
    {
      "cell_type": "code",
      "metadata": {
        "id": "stfcXLkYVPK0"
      },
      "source": [
        "data3 = data2.drop(columns=[\"Timestamp\"])"
      ],
      "execution_count": null,
      "outputs": []
    },
    {
      "cell_type": "code",
      "metadata": {
        "id": "H4q65FrAVAdH"
      },
      "source": [
        "l1 = len(data.index)\n",
        "trains_data3 = data3.head(int(l * 0.7))\n",
        "tests_data3 = data3.tail(int(l * 0.3))"
      ],
      "execution_count": null,
      "outputs": []
    },
    {
      "cell_type": "code",
      "metadata": {
        "id": "5T2GoGA1VYMJ"
      },
      "source": [
        "y_trains = trains_data3.pop(\"PKT_CLASS\").values\n",
        "y_tests = tests_data3.pop(\"PKT_CLASS\").values"
      ],
      "execution_count": null,
      "outputs": []
    },
    {
      "cell_type": "code",
      "metadata": {
        "id": "sSZlAoMPVcXa"
      },
      "source": [
        "X_trains = trains_data3.values\n",
        "X_tests = tests_data3.values"
      ],
      "execution_count": null,
      "outputs": []
    },
    {
      "cell_type": "code",
      "metadata": {
        "colab": {
          "base_uri": "https://localhost:8080/"
        },
        "id": "17pwkKJLVfoM",
        "outputId": "9bcae59a-3af0-4bee-b3ea-e6efaaf1053c"
      },
      "source": [
        "knn = KNeighborsClassifier(n_neighbors=5)\n",
        "knn.fit(X_trains, y_trains)\n",
        "y_preds = knn.predict(X_tests)\n",
        "print((accuracy_score(y_preds, y_tests)))"
      ],
      "execution_count": null,
      "outputs": [
        {
          "output_type": "stream",
          "text": [
            "0.8542222222222222\n"
          ],
          "name": "stdout"
        }
      ]
    }
  ]
}